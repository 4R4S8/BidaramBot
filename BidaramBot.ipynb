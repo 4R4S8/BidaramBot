{
 "cells": [
  {
   "cell_type": "code",
   "execution_count": null,
   "metadata": {},
   "outputs": [],
   "source": [
    "import os \n",
    "import telebot \n",
    "import datetime as dt \n",
    "import jdatetime \n",
    "import pymongo\n"
   ]
  },
  {
   "cell_type": "code",
   "execution_count": null,
   "metadata": {},
   "outputs": [],
   "source": [
    "# Get API token from a secure environment variable \n",
    "BOT_TOKEN = '7350608336:AAHgBaJR9Vqj2Bl6Mah6XMl_G6G9hPn1gHA' \n",
    " \n",
    "if not BOT_TOKEN: \n",
    "    raise ValueError(\"Please set the TELEGRAM_BOT_TOKEN environment variable\") \n",
    " \n",
    "bot = telebot.TeleBot(BOT_TOKEN) "
   ]
  },
  {
   "cell_type": "code",
   "execution_count": null,
   "metadata": {},
   "outputs": [],
   "source": [
    "def get_current_persian_datetime(): \n",
    "    \"\"\"Returns the current date and time in Persian format.\"\"\" \n",
    "    now_persian = jdatetime.datetime.now() \n",
    "    formatted_datetime = now_persian.strftime(\"%H:%M:%S | %A، %d %B %Y\") \n",
    "    return formatted_datetime "
   ]
  },
  {
   "cell_type": "code",
   "execution_count": null,
   "metadata": {},
   "outputs": [],
   "source": [
    "client = pymongo.MongoClient(\"mongodb://localhost:27017/\")\n",
    "\n",
    "db = client[\"BidaramDB\"]\n",
    "collection = db[\"UserInfo\"]\n"
   ]
  },
  {
   "cell_type": "code",
   "execution_count": null,
   "metadata": {},
   "outputs": [],
   "source": [
    "class Pagination:\n",
    "    def __init__(self, data, items_per_page):\n",
    "        self.data = data\n",
    "        self.items_per_page = items_per_page\n",
    "        self.current_page = 1\n",
    "        self.total_pages = len(self.data) // self.items_per_page + 1  # Consider remainder\n",
    "\n",
    "    def get_page_data(self):\n",
    "        \"\"\"Returns the data for the current page.\"\"\"\n",
    "        start_index = (self.current_page - 1) * self.items_per_page\n",
    "        end_index = min(self.current_page * self.items_per_page, len(self.data))\n",
    "        return self.data[start_index:end_index]\n",
    "\n",
    "    def create_message(self, chat_id):\n",
    "        \"\"\"Creates the message text for the current page.\"\"\"\n",
    "        page_data = self.get_page_data()\n",
    "        message_text = \"\\n\".join(page_data)  # Format data for each page\n",
    "        return message_text\n",
    "\n",
    "    def generate_buttons(self, chat_id):\n",
    "        \"\"\"Creates the button layout for pagination.\"\"\"\n",
    "        buttons = []\n",
    "        if self.current_page > 1:\n",
    "            buttons.append(\n",
    "                telebot.types.InlineKeyboardButton(\"Prev\", callback_data=f\"prev_{chat_id}\")\n",
    "            )\n",
    "        if self.current_page < self.total_pages:\n",
    "            buttons.append(\n",
    "                telebot.types.InlineKeyboardButton(\"Next\", callback_data=f\"next_{chat_id}\")\n",
    "            )\n",
    "        return telebot.types.InlineKeyboardMarkup(row_width=1).add(*buttons)\n"
   ]
  },
  {
   "cell_type": "code",
   "execution_count": null,
   "metadata": {},
   "outputs": [],
   "source": [
    "@bot.message_handler(commands=['start'])\n",
    "def handle_start(message):\n",
    "    chat_id = message.chat.id\n",
    "    bot.send_message(chat_id, \"سلام خوش اومدی ✨\")\n",
    "    \n",
    "@bot.message_handler(commands=['help'])\n",
    "def handle_start(message):\n",
    "    chat_id = message.chat.id\n",
    "    help_msg = \"برای ثبت زمان بیدار شدن از دستور /bidaram استفاده کن\"\n",
    "    bot.send_message(chat_id, help_msg)\n",
    "\n",
    "@bot.message_handler(commands=['bidaram'])\n",
    "def handle_bidaram(message):\n",
    "    chat_id = message.chat.id\n",
    "    current_datetime_persian = get_current_persian_datetime() \n",
    "    today_persian = jdatetime.datetime.now()\n",
    "    time = today_persian.strftime(\"%Y-%m-%d %H:%M:%S\")\n",
    "    # Get username (handle cases where it might be missing) \n",
    "    username = message.from_user.username if message.from_user.username else \"Unknown User\" \n",
    " \n",
    "    reply_message = f\"⏰{current_datetime_persian}\\n\\n✨@{username}: {message.text}\" \n",
    "    username_code = message.from_user.id if message.from_user.id else \"0\" \n",
    "    print_msg =  f\"\\n@{username}\\nusernameCode :{username_code} \\n\\n {message.text}\" \n",
    "    print(print_msg) \n",
    "    print(\"⏰ \"+  time) \n",
    "    \n",
    "    data = {\n",
    "    \"userName\": username,\n",
    "    \"UserID\": username_code,\n",
    "    \"Time\": time}\n",
    "    \n",
    "    try:\n",
    "        result = collection.insert_one(data)\n",
    "        print(\"Data inserted successfully!\")\n",
    "    except pymongo.errors.PyMongoError as e:\n",
    "        print(\"Error:\", e)\n",
    "    bot.send_message(chat_id, reply_message)\n",
    "\n",
    "@bot.message_handler(commands=['list'])\n",
    "def handle_list(message):\n",
    "    list_msg = \"\"\n",
    "    chat_id = message.chat.id\n",
    "    username_code = message.from_user.id if message.from_user.id else \"0\" \n",
    "    query = {\"UserID\": username_code} \n",
    "    try:\n",
    "        cursor = collection.find(query)\n",
    "        for document in cursor:\n",
    "            list_msg += '• ' + str(document[\"Time\"]) + '\\n'\n",
    "    except pymongo.errors.PyMongoError as e:\n",
    "        print(\"Error:\", e)\n",
    "\n",
    "    received_text = list_msg\n",
    "    bot.send_message(chat_id, received_text)\n",
    "\n",
    "@bot.message_handler(commands=['/'])\n",
    "def handle_all(message):\n",
    "    chat_id = message.chat.id\n",
    "    bot.send_message(chat_id, \"Sorry, I don't understand that command. Try /help for a list of commands.\")\n",
    "\n",
    "if __name__ == \"__main__\":\n",
    "    print('Connection established!')\n",
    "    bot.infinity_polling()"
   ]
  }
 ],
 "metadata": {
  "kernelspec": {
   "display_name": "Python 3",
   "language": "python",
   "name": "python3"
  },
  "language_info": {
   "codemirror_mode": {
    "name": "ipython",
    "version": 3
   },
   "file_extension": ".py",
   "mimetype": "text/x-python",
   "name": "python",
   "nbconvert_exporter": "python",
   "pygments_lexer": "ipython3",
   "version": "3.12.3"
  }
 },
 "nbformat": 4,
 "nbformat_minor": 2
}
