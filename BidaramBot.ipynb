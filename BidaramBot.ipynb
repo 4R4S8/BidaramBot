{
 "cells": [
  {
   "cell_type": "code",
   "execution_count": 94,
   "metadata": {},
   "outputs": [],
   "source": [
    "import os \n",
    "import telebot \n",
    "import datetime as dt \n",
    "import jdatetime \n",
    "import pymongo\n"
   ]
  },
  {
   "cell_type": "code",
   "execution_count": 95,
   "metadata": {},
   "outputs": [],
   "source": [
    "# Get API token from a secure environment variable \n",
    "BOT_TOKEN = '7350608336:AAHgBaJR9Vqj2Bl6Mah6XMl_G6G9hPn1gHA' \n",
    " \n",
    "if not BOT_TOKEN: \n",
    "    raise ValueError(\"Please set the TELEGRAM_BOT_TOKEN environment variable\") \n",
    " \n",
    "bot = telebot.TeleBot(BOT_TOKEN) "
   ]
  },
  {
   "cell_type": "code",
   "execution_count": 96,
   "metadata": {},
   "outputs": [],
   "source": [
    "def get_current_persian_datetime(): \n",
    "    \"\"\"Returns the current date and time in Persian format.\"\"\" \n",
    "    now_persian = jdatetime.datetime.now() \n",
    "    formatted_datetime = now_persian.strftime(\"%H:%M:%S | %A، %d %B %Y\") \n",
    "    return formatted_datetime "
   ]
  },
  {
   "cell_type": "code",
   "execution_count": 97,
   "metadata": {},
   "outputs": [],
   "source": [
    "client = pymongo.MongoClient(\"mongodb://localhost:27017/\")\n",
    "\n",
    "db = client[\"BidaramDB\"]\n",
    "collection = db[\"UserInfo\"]\n"
   ]
  },
  {
   "cell_type": "code",
   "execution_count": 98,
   "metadata": {},
   "outputs": [
    {
     "name": "stdout",
     "output_type": "stream",
     "text": [
      "Connection established!\n",
      "\n",
      "@oxiiiixo\n",
      "usernameCode :607284785 \n",
      "\n",
      " /bidaram\n",
      "⏰ 1403-03-25 13:49:06.483964\n",
      "Data inserted successfully!\n"
     ]
    }
   ],
   "source": [
    "@bot.message_handler(commands=['start'])\n",
    "def handle_start(message):\n",
    "    chat_id = message.chat.id\n",
    "    bot.send_message(chat_id, \"سلام خوش اومدی ✨\")\n",
    "    \n",
    "@bot.message_handler(commands=['help'])\n",
    "def handle_start(message):\n",
    "    chat_id = message.chat.id\n",
    "    help_msg = \"برای ثبت زمان بیدار شدن از دستور /bidaram استفاده کن\"\n",
    "    bot.send_message(chat_id, help_msg)\n",
    "\n",
    "@bot.message_handler(commands=['bidaram'])\n",
    "def handle_bidaram(message):\n",
    "    chat_id = message.chat.id\n",
    "    current_datetime_persian = get_current_persian_datetime() \n",
    "    today_persian = str(jdatetime.datetime.now()) \n",
    " \n",
    "    # Get username (handle cases where it might be missing) \n",
    "    username = message.from_user.username if message.from_user.username else \"Unknown User\" \n",
    " \n",
    "    reply_message = f\"⏰{current_datetime_persian}\\n\\n✨@{username}: {message.text}\" \n",
    "    username_code = message.from_user.id if message.from_user.id else \"0\" \n",
    "    print_msg =  f\"\\n@{username}\\nusernameCode :{username_code} \\n\\n {message.text}\" \n",
    "    print(print_msg) \n",
    "    print(\"⏰ \"+  today_persian) \n",
    "    \n",
    "    data = {\n",
    "    \"userName\": username,\n",
    "    \"UserID\": username_code,\n",
    "    \"Time\": today_persian}\n",
    "    \n",
    "    try:\n",
    "        result = collection.insert_one(data)\n",
    "        print(\"Data inserted successfully!\")\n",
    "    except pymongo.errors.PyMongoError as e:\n",
    "        print(\"Error:\", e)\n",
    "    bot.send_message(chat_id, reply_message)\n",
    "\n",
    "@bot.message_handler(commands=['list'])\n",
    "def handle_list(message):\n",
    "    list_msg = \"\"\n",
    "    chat_id = message.chat.id\n",
    "    username_code = message.from_user.id if message.from_user.id else \"0\" \n",
    "    query = {\"UserID\": username_code} \n",
    "    try:\n",
    "        cursor = collection.find(query)\n",
    "        for document in cursor:\n",
    "            list_msg += str(document[\"Time\"]) + '\\n'\n",
    "    except pymongo.errors.PyMongoError as e:\n",
    "        print(\"Error:\", e)\n",
    "\n",
    "    received_text = list_msg\n",
    "    bot.send_message(chat_id, received_text)\n",
    "\n",
    "@bot.message_handler(func=lambda message: True)\n",
    "def handle_all(message):\n",
    "    chat_id = message.chat.id\n",
    "    bot.send_message(chat_id, \"Sorry, I don't understand that command. Try /help for a list of commands.\")\n",
    "\n",
    "if __name__ == \"__main__\":\n",
    "    print('Connection established!')\n",
    "    bot.infinity_polling()"
   ]
  },
  {
   "cell_type": "code",
   "execution_count": null,
   "metadata": {},
   "outputs": [],
   "source": [
    "# @bot.message_handler(func=lambda msg: True) \n",
    "# def echo_all(message): \n",
    "#     \"\"\"Echos the user's message while displaying the current Persian date and time, and username.\"\"\" \n",
    "#     current_datetime_persian = get_current_persian_datetime() \n",
    "#     today_persian = str(jdatetime.datetime.now()) \n",
    " \n",
    "#     # Get username (handle cases where it might be missing) \n",
    "#     username = message.from_user.username if message.from_user.username else \"Unknown User\" \n",
    " \n",
    "#     reply_message = f\"⏰{current_datetime_persian}\\n\\n✨@{username}: {message.text}\" \n",
    "#     username_code = message.from_user.id if message.from_user.id else \"0\" \n",
    "#     bot.reply_to(message, reply_message) \n",
    "#     print_msg =  f\"\\n@{username}\\nusernameCode :{username_code} \\n\\n {message.text}\" \n",
    "#     print(print_msg) \n",
    "#     print(\"⏰ \"+  today_persian) \n",
    "    \n",
    "#     data = {\n",
    "#     \"userName\": username,\n",
    "#     \"UserID\": username_code,\n",
    "#     \"Time\": today_persian}\n",
    "    \n",
    "#     try:\n",
    "#         result = collection.insert_one(data)\n",
    "#         print(\"Data inserted successfully!\")\n",
    "#     except pymongo.errors.PyMongoError as e:\n",
    "#         print(\"Error:\", e)\n",
    "\n",
    " \n",
    " \n",
    "# count = 1 \n",
    "# while True: \n",
    "#     try: \n",
    "#         print(\"Connection established.\") \n",
    "#         bot.polling(none_stop=True, interval=0)  # Use non-blocking polling for real-time \n",
    "#         break  # Successful connection, exit loop \n",
    "#     except ConnectionError: \n",
    "#         print(\"Connection failed. Retrying...\") \n",
    "#     except Exception as e: \n",
    "#         print(f\"({count}) Unexpected error: {e}. Retrying...\") \n",
    "#         count += 1  # Track and log errors (optional)"
   ]
  }
 ],
 "metadata": {
  "kernelspec": {
   "display_name": "Python 3",
   "language": "python",
   "name": "python3"
  },
  "language_info": {
   "codemirror_mode": {
    "name": "ipython",
    "version": 3
   },
   "file_extension": ".py",
   "mimetype": "text/x-python",
   "name": "python",
   "nbconvert_exporter": "python",
   "pygments_lexer": "ipython3",
   "version": "3.12.3"
  }
 },
 "nbformat": 4,
 "nbformat_minor": 2
}
