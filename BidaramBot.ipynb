{
 "cells": [
  {
   "cell_type": "code",
   "execution_count": 7,
   "metadata": {},
   "outputs": [],
   "source": [
    "import os \n",
    "import telebot \n",
    "import datetime as dt \n",
    "import jdatetime \n",
    "import pymongo\n"
   ]
  },
  {
   "cell_type": "code",
   "execution_count": 8,
   "metadata": {},
   "outputs": [],
   "source": [
    "# Get API token from a secure environment variable \n",
    "BOT_TOKEN = '7350608336:AAHgBaJR9Vqj2Bl6Mah6XMl_G6G9hPn1gHA' \n",
    " \n",
    "if not BOT_TOKEN: \n",
    "    raise ValueError(\"Please set the TELEGRAM_BOT_TOKEN environment variable\") \n",
    " \n",
    "bot = telebot.TeleBot(BOT_TOKEN) "
   ]
  },
  {
   "cell_type": "code",
   "execution_count": 9,
   "metadata": {},
   "outputs": [],
   "source": [
    "def get_current_persian_datetime(): \n",
    "    \"\"\"Returns the current date and time in Persian format.\"\"\" \n",
    "    now_persian = jdatetime.datetime.now() \n",
    "    formatted_datetime = now_persian.strftime(\"%H:%M:%S | %A، %d %B %Y\") \n",
    "    return formatted_datetime "
   ]
  },
  {
   "cell_type": "code",
   "execution_count": 10,
   "metadata": {},
   "outputs": [],
   "source": [
    "client = pymongo.MongoClient(\"mongodb://localhost:27017/\")\n",
    "\n",
    "db = client[\"BidaramDB\"]\n",
    "collection = db[\"UserInfo\"]\n"
   ]
  },
  {
   "cell_type": "code",
   "execution_count": 11,
   "metadata": {},
   "outputs": [
    {
     "data": {
      "text/plain": [
       "InsertOneResult(ObjectId('666c01e1b2070d51c9e94146'), acknowledged=True)"
      ]
     },
     "execution_count": 11,
     "metadata": {},
     "output_type": "execute_result"
    }
   ],
   "source": [
    "data = {\n",
    "    \"name\": \"Alice\",\n",
    "    \"age\": 30,\n",
    "    \"city\": \"New York\"\n",
    "}\n",
    "result = collection.insert_one(data)\n",
    "result"
   ]
  },
  {
   "cell_type": "code",
   "execution_count": 12,
   "metadata": {},
   "outputs": [
    {
     "name": "stdout",
     "output_type": "stream",
     "text": [
      "Connection established.\n",
      "\n",
      "@oxiiiixo\n",
      "usernameCode :607284785 \n",
      "\n",
      " /bidaram\n",
      "⏰ 1403-03-25 12:10:36.718033\n",
      "\n",
      "@oxiiiixo\n",
      "usernameCode :607284785 \n",
      "\n",
      " /bidaram\n",
      "⏰ 1403-03-25 12:10:41.184688\n",
      "\n",
      "@oxiiiixo\n",
      "usernameCode :607284785 \n",
      "\n",
      " /bidaram\n",
      "⏰ 1403-03-25 12:10:46.17041\n",
      "\n",
      "@oxiiiixo\n",
      "usernameCode :607284785 \n",
      "\n",
      " /bidaram\n",
      "⏰ 1403-03-25 12:12:20.308426\n",
      "\n",
      "@oxiiiixo\n",
      "usernameCode :607284785 \n",
      "\n",
      " /bidaram\n",
      "⏰ 1403-03-25 12:12:22.728547\n",
      "\n",
      "@oxiiiixo\n",
      "usernameCode :607284785 \n",
      "\n",
      " /bidaram\n",
      "⏰ 1403-03-25 12:12:25.601758\n",
      "(1) Unexpected error: ('Connection aborted.', RemoteDisconnected('Remote end closed connection without response')). Retrying...\n",
      "Connection established.\n",
      "(2) Unexpected error: HTTPSConnectionPool(host='api.telegram.org', port=443): Max retries exceeded with url: /bot7350608336:AAHgBaJR9Vqj2Bl6Mah6XMl_G6G9hPn1gHA/getUpdates?offset=23025169&timeout=20 (Caused by SSLError(SSLEOFError(8, '[SSL: UNEXPECTED_EOF_WHILE_READING] EOF occurred in violation of protocol (_ssl.c:1000)'))). Retrying...\n",
      "Connection established.\n",
      "(3) Unexpected error: HTTPSConnectionPool(host='api.telegram.org', port=443): Max retries exceeded with url: /bot7350608336:AAHgBaJR9Vqj2Bl6Mah6XMl_G6G9hPn1gHA/getUpdates?offset=23025169&timeout=20 (Caused by SSLError(SSLEOFError(8, '[SSL: UNEXPECTED_EOF_WHILE_READING] EOF occurred in violation of protocol (_ssl.c:1000)'))). Retrying...\n",
      "Connection established.\n",
      "(4) Unexpected error: HTTPSConnectionPool(host='api.telegram.org', port=443): Max retries exceeded with url: /bot7350608336:AAHgBaJR9Vqj2Bl6Mah6XMl_G6G9hPn1gHA/getUpdates?offset=23025169&timeout=20 (Caused by SSLError(SSLEOFError(8, '[SSL: UNEXPECTED_EOF_WHILE_READING] EOF occurred in violation of protocol (_ssl.c:1000)'))). Retrying...\n",
      "Connection established.\n",
      "\n",
      "@sepid24_ir\n",
      "usernameCode :1693067952 \n",
      "\n",
      " /bidaram@bidarambot\n",
      "⏰ 1403-03-25 12:16:41.436830\n",
      "(5) Unexpected error: ('Connection aborted.', RemoteDisconnected('Remote end closed connection without response')). Retrying...\n",
      "Connection established.\n",
      "(6) Unexpected error: HTTPSConnectionPool(host='api.telegram.org', port=443): Max retries exceeded with url: /bot7350608336:AAHgBaJR9Vqj2Bl6Mah6XMl_G6G9hPn1gHA/getUpdates?offset=23025170&timeout=20 (Caused by SSLError(SSLEOFError(8, '[SSL: UNEXPECTED_EOF_WHILE_READING] EOF occurred in violation of protocol (_ssl.c:1000)'))). Retrying...\n",
      "Connection established.\n",
      "(7) Unexpected error: HTTPSConnectionPool(host='api.telegram.org', port=443): Max retries exceeded with url: /bot7350608336:AAHgBaJR9Vqj2Bl6Mah6XMl_G6G9hPn1gHA/getUpdates?offset=23025170&timeout=20 (Caused by SSLError(SSLEOFError(8, '[SSL: UNEXPECTED_EOF_WHILE_READING] EOF occurred in violation of protocol (_ssl.c:1000)'))). Retrying...\n",
      "Connection established.\n",
      "(8) Unexpected error: HTTPSConnectionPool(host='api.telegram.org', port=443): Max retries exceeded with url: /bot7350608336:AAHgBaJR9Vqj2Bl6Mah6XMl_G6G9hPn1gHA/getUpdates?offset=23025170&timeout=20 (Caused by SSLError(SSLEOFError(8, '[SSL: UNEXPECTED_EOF_WHILE_READING] EOF occurred in violation of protocol (_ssl.c:1000)'))). Retrying...\n",
      "Connection established.\n"
     ]
    }
   ],
   "source": [
    "@bot.message_handler(func=lambda msg: True) \n",
    "def echo_all(message): \n",
    "    \"\"\"Echos the user's message while displaying the current Persian date and time, and username.\"\"\" \n",
    "    current_datetime_persian = get_current_persian_datetime() \n",
    "    today_persian = str(jdatetime.datetime.now()) \n",
    " \n",
    "    # Get username (handle cases where it might be missing) \n",
    "    username = message.from_user.username if message.from_user.username else \"Unknown User\" \n",
    " \n",
    "    reply_message = f\"⏰{current_datetime_persian}\\n\\n✨@{username}: {message.text}\" \n",
    "    username_code = message.from_user.id if message.from_user.id else \"0\" \n",
    "    bot.reply_to(message, reply_message) \n",
    "    print_msg =  f\"\\n@{username}\\nusernameCode :{username_code} \\n\\n {message.text}\" \n",
    "    print(print_msg) \n",
    "    print(\"⏰ \"+  today_persian) \n",
    "    \n",
    "    data = {\n",
    "    \"userName\": username,\n",
    "    \"UserID\": username_code,\n",
    "    \"Time\": today_persian}\n",
    "    \n",
    "    try:\n",
    "        result = collection.insert_one(data)\n",
    "        print(\"Data inserted successfully!\")\n",
    "    except pymongo.errors.PyMongoError as e:\n",
    "        print(\"Error:\", e)\n",
    "\n",
    " \n",
    " \n",
    "count = 1 \n",
    "while True: \n",
    "    try: \n",
    "        print(\"Connection established.\") \n",
    "        bot.polling(none_stop=True, interval=0)  # Use non-blocking polling for real-time \n",
    "        break  # Successful connection, exit loop \n",
    "    except ConnectionError: \n",
    "        print(\"Connection failed. Retrying...\") \n",
    "    except Exception as e: \n",
    "        print(f\"({count}) Unexpected error: {e}. Retrying...\") \n",
    "        count += 1  # Track and log errors (optional)"
   ]
  }
 ],
 "metadata": {
  "kernelspec": {
   "display_name": "Python 3",
   "language": "python",
   "name": "python3"
  },
  "language_info": {
   "codemirror_mode": {
    "name": "ipython",
    "version": 3
   },
   "file_extension": ".py",
   "mimetype": "text/x-python",
   "name": "python",
   "nbconvert_exporter": "python",
   "pygments_lexer": "ipython3",
   "version": "3.12.3"
  }
 },
 "nbformat": 4,
 "nbformat_minor": 2
}
